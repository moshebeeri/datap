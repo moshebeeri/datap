{
 "metadata": {
  "language_info": {
   "codemirror_mode": {
    "name": "ipython",
    "version": 3
   },
   "file_extension": ".py",
   "mimetype": "text/x-python",
   "name": "python",
   "nbconvert_exporter": "python",
   "pygments_lexer": "ipython3",
   "version": "3.7.6-final"
  },
  "orig_nbformat": 2,
  "kernelspec": {
   "name": "python3",
   "display_name": "Python 3",
   "language": "python"
  }
 },
 "nbformat": 4,
 "nbformat_minor": 2,
 "cells": [
  {
   "cell_type": "code",
   "execution_count": 5,
   "metadata": {},
   "outputs": [
    {
     "output_type": "stream",
     "name": "stdout",
     "text": [
      "Collecting pydruid\n",
      "  Downloading pydruid-0.6.2.tar.gz (42 kB)\n",
      "\u001b[K     |████████████████████████████████| 42 kB 193 kB/s \n",
      "\u001b[?25hRequirement already satisfied: requests in /Users/moshe/opt/anaconda3/lib/python3.7/site-packages (from pydruid) (2.24.0)\n",
      "Requirement already satisfied: idna<3,>=2.5 in /Users/moshe/opt/anaconda3/lib/python3.7/site-packages (from requests->pydruid) (2.10)\n",
      "Requirement already satisfied: certifi>=2017.4.17 in /Users/moshe/opt/anaconda3/lib/python3.7/site-packages (from requests->pydruid) (2020.6.20)\n",
      "Requirement already satisfied: urllib3!=1.25.0,!=1.25.1,<1.26,>=1.21.1 in /Users/moshe/opt/anaconda3/lib/python3.7/site-packages (from requests->pydruid) (1.25.10)\n",
      "Requirement already satisfied: chardet<4,>=3.0.2 in /Users/moshe/opt/anaconda3/lib/python3.7/site-packages (from requests->pydruid) (3.0.4)\n",
      "Building wheels for collected packages: pydruid\n",
      "  Building wheel for pydruid (setup.py) ... \u001b[?25ldone\n",
      "\u001b[?25h  Created wheel for pydruid: filename=pydruid-0.6.2-py2.py3-none-any.whl size=34248 sha256=3a782d13669906e7fcc71d2590a54e0bec055faf33259989b33335e9c7637678\n",
      "  Stored in directory: /Users/moshe/Library/Caches/pip/wheels/b1/f0/42/6ea707847e94d4b7b16b23803cf886b0165900a945819219fc\n",
      "Successfully built pydruid\n",
      "Installing collected packages: pydruid\n",
      "Successfully installed pydruid-0.6.2\n"
     ]
    }
   ],
   "source": [
    "!pip install pydruid\n",
    "\n",
    "\n"
   ]
  },
  {
   "cell_type": "code",
   "execution_count": 20,
   "metadata": {},
   "outputs": [
    {
     "output_type": "stream",
     "name": "stdout",
     "text": [
      "[{'timestamp': '2015-09-12T00:00:00.000Z', 'result': [{'channel': '#en.wikipedia', 'delta_count': 926100}, {'channel': '#ru.wikipedia', 'delta_count': 400634}, {'channel': '#fr.wikipedia', 'delta_count': 374170}, {'channel': '#es.wikipedia', 'delta_count': 348986}]}]\n"
     ]
    }
   ],
   "source": [
    "from pydruid import *\n",
    "from pydruid.client import *\n",
    "# from pylab import plt\n",
    "# from pydruid.query import QueryBuilder\n",
    "# from pydruid.utils.postaggregator import *\n",
    "# from pydruid.utils.aggregators import *\n",
    "from pydruid.utils.filters import *\n",
    "\n",
    "query = PyDruid('http://localhost:8083', 'druid/v2/')\n",
    "top_channel = query.topn(\n",
    "    datasource = \"wikipedia\",\n",
    "    granularity = \"day\",\n",
    "    intervals = \"2015-06-01T00:00/2020-01-01T00\",\n",
    "    dimension = \"channel\",\n",
    "    filter = Dimension(\"namespace\") == \"Main\",\n",
    "    aggregations = {\"delta_count\": longsum(\"delta\")},\n",
    "    metric = \"delta_count\",\n",
    "    threshold = 4\n",
    ")\n",
    "\n",
    "print(top_channel)\n"
   ]
  },
  {
   "cell_type": "code",
   "execution_count": null,
   "metadata": {},
   "outputs": [],
   "source": [
    "import pyspark\n",
    "print(\"hello\")\n"
   ]
  }
 ]
}